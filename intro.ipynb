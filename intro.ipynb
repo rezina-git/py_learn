{
 "cells": [
  {
   "cell_type": "code",
   "execution_count": 144,
   "id": "4ffc478b",
   "metadata": {},
   "outputs": [
    {
     "data": {
      "text/plain": [
       "'Hello World!!'"
      ]
     },
     "execution_count": 144,
     "metadata": {},
     "output_type": "execute_result"
    }
   ],
   "source": [
    "(\"Hello World!!\")"
   ]
  },
  {
   "cell_type": "code",
   "execution_count": 145,
   "id": "0ee780e0",
   "metadata": {},
   "outputs": [
    {
     "data": {
      "text/plain": [
       "5"
      ]
     },
     "execution_count": 145,
     "metadata": {},
     "output_type": "execute_result"
    }
   ],
   "source": [
    "2 +3 "
   ]
  },
  {
   "cell_type": "code",
   "execution_count": 146,
   "id": "f0eab75c",
   "metadata": {},
   "outputs": [
    {
     "data": {
      "text/plain": [
       "20.3"
      ]
     },
     "execution_count": 146,
     "metadata": {},
     "output_type": "execute_result"
    }
   ],
   "source": [
    "a= 10\n",
    "b= 203\n",
    "b//a  #Only takes integer value.\n",
    "b.__truediv__(a)  #Takes both value."
   ]
  },
  {
   "cell_type": "code",
   "execution_count": 147,
   "id": "c95069c7",
   "metadata": {},
   "outputs": [
    {
     "data": {
      "text/plain": [
       "(5, 10)"
      ]
     },
     "execution_count": 147,
     "metadata": {},
     "output_type": "execute_result"
    }
   ],
   "source": [
    "a,b = 5,10\n",
    "a,b"
   ]
  },
  {
   "cell_type": "code",
   "execution_count": 148,
   "id": "bcd90400",
   "metadata": {},
   "outputs": [
    {
     "data": {
      "text/plain": [
       "300000.0"
      ]
     },
     "execution_count": 148,
     "metadata": {},
     "output_type": "execute_result"
    }
   ],
   "source": [
    "salary = 1200000\n",
    "tax_rate = 0.25 \n",
    "\n",
    "total = salary * tax_rate\n",
    "total"
   ]
  },
  {
   "cell_type": "code",
   "execution_count": 149,
   "id": "ba417372",
   "metadata": {},
   "outputs": [
    {
     "data": {
      "text/plain": [
       "501250.0"
      ]
     },
     "execution_count": 149,
     "metadata": {},
     "output_type": "execute_result"
    }
   ],
   "source": [
    "p = 500000\n",
    "r = 0.05\n",
    "t = 5 # Amount?\n",
    "AMOUNT = (p*t*r)/100 + p\n",
    "AMOUNT"
   ]
  },
  {
   "cell_type": "markdown",
   "id": "8c3fcac5",
   "metadata": {},
   "source": [
    "#help(str)\n",
    "#dir(str)"
   ]
  },
  {
   "cell_type": "code",
   "execution_count": 150,
   "id": "4d009dc7",
   "metadata": {},
   "outputs": [
    {
     "data": {
      "text/plain": [
       "'Broadway'"
      ]
     },
     "execution_count": 150,
     "metadata": {},
     "output_type": "execute_result"
    }
   ],
   "source": [
    "#String \n",
    "\"Broadway\"\n",
    "# 'i'm a student' --->not allowed\n"
   ]
  },
  {
   "cell_type": "code",
   "execution_count": 151,
   "id": "58b0fa7f",
   "metadata": {},
   "outputs": [
    {
     "data": {
      "text/plain": [
       "\"That's sweet, let's go to the park.\""
      ]
     },
     "execution_count": 151,
     "metadata": {},
     "output_type": "execute_result"
    }
   ],
   "source": [
    "#escape character:\n",
    "# That's sweet, let,s go to the park.\n",
    "'That\\'s sweet, let\\'s go to the park.'"
   ]
  },
  {
   "cell_type": "code",
   "execution_count": 152,
   "id": "f1eec257",
   "metadata": {},
   "outputs": [
    {
     "data": {
      "text/plain": [
       "\"THAT'S SWEET, LET'S GO TO THE PARK.\""
      ]
     },
     "execution_count": 152,
     "metadata": {},
     "output_type": "execute_result"
    }
   ],
   "source": [
    "helo =\"That's sweet, let's go to the park.\"\n",
    "helo.upper()"
   ]
  },
  {
   "cell_type": "markdown",
   "id": "30d30e5a",
   "metadata": {},
   "source": [
    "Indexing and slicing"
   ]
  },
  {
   "cell_type": "code",
   "execution_count": 153,
   "id": "5fa29dde",
   "metadata": {},
   "outputs": [
    {
     "data": {
      "text/plain": [
       "'!'"
      ]
     },
     "execution_count": 153,
     "metadata": {},
     "output_type": "execute_result"
    }
   ],
   "source": [
    "a = \"Hello world!\"\n",
    "a[11]\n"
   ]
  },
  {
   "cell_type": "code",
   "execution_count": 154,
   "id": "8ae68a01",
   "metadata": {},
   "outputs": [
    {
     "data": {
      "text/plain": [
       "'Hello world!'"
      ]
     },
     "execution_count": 154,
     "metadata": {},
     "output_type": "execute_result"
    }
   ],
   "source": [
    "#Slicing \n",
    "#Syntax [start:stop:step] \n",
    "#Start :inclusive  default = 0\n",
    "#end : exclusive (adds 1) len(string) \n",
    "#step : Step size default = 1\n",
    "\n",
    "a[0:4+1:2]\n",
    "a"
   ]
  },
  {
   "cell_type": "code",
   "execution_count": 155,
   "id": "8cc037dd",
   "metadata": {},
   "outputs": [
    {
     "data": {
      "text/plain": [
       "'!dlrow'"
      ]
     },
     "execution_count": 155,
     "metadata": {},
     "output_type": "execute_result"
    }
   ],
   "source": [
    "#!dlrow-->a = \"Hello world!\"\n",
    "\n",
    "a[11:6-1:-1]\n"
   ]
  },
  {
   "cell_type": "code",
   "execution_count": 156,
   "id": "03dc528a",
   "metadata": {},
   "outputs": [
    {
     "data": {
      "text/plain": [
       "'eman'"
      ]
     },
     "execution_count": 156,
     "metadata": {},
     "output_type": "execute_result"
    }
   ],
   "source": [
    "b = \"my name\"\n",
    "b[6:3-1:-1]"
   ]
  },
  {
   "cell_type": "code",
   "execution_count": 157,
   "id": "2f8051c5",
   "metadata": {},
   "outputs": [
    {
     "data": {
      "text/plain": [
       "'Hello world'"
      ]
     },
     "execution_count": 157,
     "metadata": {},
     "output_type": "execute_result"
    }
   ],
   "source": [
    "a[0:11:1]"
   ]
  },
  {
   "cell_type": "code",
   "execution_count": 158,
   "id": "5f304942",
   "metadata": {},
   "outputs": [
    {
     "data": {
      "text/plain": [
       "'!'"
      ]
     },
     "execution_count": 158,
     "metadata": {},
     "output_type": "execute_result"
    }
   ],
   "source": [
    "a[11:]"
   ]
  },
  {
   "cell_type": "code",
   "execution_count": 159,
   "id": "c9af794e",
   "metadata": {},
   "outputs": [
    {
     "data": {
      "text/plain": [
       "'Hello world!'"
      ]
     },
     "execution_count": 159,
     "metadata": {},
     "output_type": "execute_result"
    }
   ],
   "source": [
    "a[::1]"
   ]
  },
  {
   "cell_type": "code",
   "execution_count": 160,
   "id": "291bc14a",
   "metadata": {},
   "outputs": [
    {
     "data": {
      "text/plain": [
       "'aneejeR'"
      ]
     },
     "execution_count": 160,
     "metadata": {},
     "output_type": "execute_result"
    }
   ],
   "source": [
    "b = \"Rejeena\"\n",
    "b[::-1]"
   ]
  },
  {
   "cell_type": "code",
   "execution_count": 161,
   "id": "8ed77c35",
   "metadata": {},
   "outputs": [
    {
     "data": {
      "text/plain": [
       "[1, 2, 3, 4, 5, 6, 7, 8]"
      ]
     },
     "execution_count": 161,
     "metadata": {},
     "output_type": "execute_result"
    }
   ],
   "source": [
    "a = [1,\"Two\",3.0,4+5j,True,[1,2,3],{1,2,3},{1:\"one\",2:\"two\"}]\n",
    "a[1:8] = [2,3,4,5,6,7,8]\n",
    "a"
   ]
  },
  {
   "cell_type": "code",
   "execution_count": 162,
   "id": "27643701",
   "metadata": {},
   "outputs": [
    {
     "data": {
      "text/plain": [
       "[1, 'Two', 3, 'Four', 5, 'Six', 7, 'Eight']"
      ]
     },
     "execution_count": 162,
     "metadata": {},
     "output_type": "execute_result"
    }
   ],
   "source": [
    "a = [1,\"Two\",3.0,4+5j,True,[1,2,3],{1,2,3},{1:\"one\",2:\"two\"}]\n",
    "a[2:8] = [3,\"Four\",5,\"Six\",7,\"Eight\"]\n",
    "a"
   ]
  },
  {
   "cell_type": "code",
   "execution_count": 163,
   "id": "8a2fa073",
   "metadata": {},
   "outputs": [
    {
     "name": "stdout",
     "output_type": "stream",
     "text": [
      "Help on method_descriptor:\n",
      "\n",
      "clear(self, /) unbound builtins.list method\n",
      "    Remove all items from list.\n",
      "\n"
     ]
    }
   ],
   "source": [
    "help(list.clear)"
   ]
  },
  {
   "cell_type": "code",
   "execution_count": 164,
   "id": "d8072abe",
   "metadata": {},
   "outputs": [
    {
     "data": {
      "text/plain": [
       "[]"
      ]
     },
     "execution_count": 164,
     "metadata": {},
     "output_type": "execute_result"
    }
   ],
   "source": [
    "a = [1,2,3,4,5]\n",
    "a.clear()\n",
    "a"
   ]
  },
  {
   "cell_type": "code",
   "execution_count": 165,
   "id": "5004232a",
   "metadata": {},
   "outputs": [
    {
     "data": {
      "text/plain": [
       "['__class__',\n",
       " '__class_getitem__',\n",
       " '__contains__',\n",
       " '__delattr__',\n",
       " '__delitem__',\n",
       " '__dir__',\n",
       " '__doc__',\n",
       " '__eq__',\n",
       " '__format__',\n",
       " '__ge__',\n",
       " '__getattribute__',\n",
       " '__getitem__',\n",
       " '__getstate__',\n",
       " '__gt__',\n",
       " '__hash__',\n",
       " '__init__',\n",
       " '__init_subclass__',\n",
       " '__ior__',\n",
       " '__iter__',\n",
       " '__le__',\n",
       " '__len__',\n",
       " '__lt__',\n",
       " '__ne__',\n",
       " '__new__',\n",
       " '__or__',\n",
       " '__reduce__',\n",
       " '__reduce_ex__',\n",
       " '__repr__',\n",
       " '__reversed__',\n",
       " '__ror__',\n",
       " '__setattr__',\n",
       " '__setitem__',\n",
       " '__sizeof__',\n",
       " '__str__',\n",
       " '__subclasshook__',\n",
       " 'clear',\n",
       " 'copy',\n",
       " 'fromkeys',\n",
       " 'get',\n",
       " 'items',\n",
       " 'keys',\n",
       " 'pop',\n",
       " 'popitem',\n",
       " 'setdefault',\n",
       " 'update',\n",
       " 'values']"
      ]
     },
     "execution_count": 165,
     "metadata": {},
     "output_type": "execute_result"
    }
   ],
   "source": [
    "dir(dict)"
   ]
  },
  {
   "cell_type": "code",
   "execution_count": 166,
   "id": "177cd207",
   "metadata": {},
   "outputs": [
    {
     "name": "stdout",
     "output_type": "stream",
     "text": [
      "Help on method_descriptor:\n",
      "\n",
      "update(...) unbound builtins.dict method\n",
      "    D.update([E, ]**F) -> None.  Update D from mapping/iterable E and F.\n",
      "    If E is present and has a .keys() method, then does:  for k in E.keys(): D[k] = E[k]\n",
      "    If E is present and lacks a .keys() method, then does:  for k, v in E: D[k] = v\n",
      "    In either case, this is followed by: for k in F:  D[k] = F[k]\n",
      "\n"
     ]
    }
   ],
   "source": [
    "help(dict.update)"
   ]
  },
  {
   "cell_type": "markdown",
   "id": "af1b839c",
   "metadata": {},
   "source": [
    "Extract 11:"
   ]
  },
  {
   "cell_type": "code",
   "execution_count": 167,
   "id": "ad196f54",
   "metadata": {},
   "outputs": [
    {
     "data": {
      "text/plain": [
       "11"
      ]
     },
     "execution_count": 167,
     "metadata": {},
     "output_type": "execute_result"
    }
   ],
   "source": [
    "a = [\n",
    "    [\n",
    "        [1,2,3],\n",
    "        [4,5,6]\n",
    "    ],\n",
    "    [\n",
    "        [7,8,9],\n",
    "        [10,11,12]\n",
    "    ],\n",
    "    [\n",
    "        [13,14,15],\n",
    "        [16,17,18]\n",
    "    ]\n",
    "]\n",
    "a[1][1][1] # a list ko 11--> 1 index ma xa ani pherii 1 index vitra ko ni 1 index ko ni feri 1 index ma xa"
   ]
  },
  {
   "cell_type": "markdown",
   "id": "0b543ef7",
   "metadata": {},
   "source": [
    "Extract 18"
   ]
  },
  {
   "cell_type": "code",
   "execution_count": 168,
   "id": "0f0df14e",
   "metadata": {},
   "outputs": [
    {
     "data": {
      "text/plain": [
       "18"
      ]
     },
     "execution_count": 168,
     "metadata": {},
     "output_type": "execute_result"
    }
   ],
   "source": [
    "a = [\n",
    "    [\n",
    "        [1,2,3],\n",
    "        [4,5,6]\n",
    "    ],\n",
    "    [\n",
    "        [7,8,9],\n",
    "        [10,11,12]\n",
    "    ],\n",
    "    [\n",
    "        [13,14,15],\n",
    "        [16,17,18]\n",
    "    ]\n",
    "]\n",
    "a[2][1][2]"
   ]
  },
  {
   "cell_type": "code",
   "execution_count": 169,
   "id": "6c004f3f",
   "metadata": {},
   "outputs": [
    {
     "data": {
      "text/plain": [
       "tuple"
      ]
     },
     "execution_count": 169,
     "metadata": {},
     "output_type": "execute_result"
    }
   ],
   "source": [
    "my_Info = (\"Rejina\",22,9817088954,\"Unmarried\")\n",
    "type(my_Info)"
   ]
  },
  {
   "cell_type": "code",
   "execution_count": 170,
   "id": "d15869e9",
   "metadata": {},
   "outputs": [
    {
     "data": {
      "text/plain": [
       "tuple"
      ]
     },
     "execution_count": 170,
     "metadata": {},
     "output_type": "execute_result"
    }
   ],
   "source": [
    "a = 1,2,3 #tuple packing\n",
    "type(a)"
   ]
  },
  {
   "cell_type": "code",
   "execution_count": 171,
   "id": "a1f227ae",
   "metadata": {},
   "outputs": [],
   "source": [
    "b,c, d= a # tuple unpacking"
   ]
  },
  {
   "cell_type": "markdown",
   "id": "55b6888f",
   "metadata": {},
   "source": [
    "Set"
   ]
  },
  {
   "cell_type": "code",
   "execution_count": 172,
   "id": "aefaafb0",
   "metadata": {},
   "outputs": [],
   "source": [
    "a = {1,2,3,4,5,6,7}\n",
    "b = {5,6,7,8,9,10}"
   ]
  },
  {
   "cell_type": "code",
   "execution_count": 173,
   "id": "59afa9ae",
   "metadata": {},
   "outputs": [
    {
     "data": {
      "text/plain": [
       "{5, 6, 7}"
      ]
     },
     "execution_count": 173,
     "metadata": {},
     "output_type": "execute_result"
    }
   ],
   "source": [
    "a.intersection(b)"
   ]
  },
  {
   "cell_type": "code",
   "execution_count": 174,
   "id": "88216b4f",
   "metadata": {},
   "outputs": [
    {
     "data": {
      "text/plain": [
       "1"
      ]
     },
     "execution_count": 174,
     "metadata": {},
     "output_type": "execute_result"
    }
   ],
   "source": [
    "a.pop()"
   ]
  },
  {
   "cell_type": "code",
   "execution_count": 175,
   "id": "68ce16de",
   "metadata": {},
   "outputs": [
    {
     "name": "stdout",
     "output_type": "stream",
     "text": [
      "Help on method_descriptor:\n",
      "\n",
      "remove(self, object, /) unbound builtins.set method\n",
      "    Remove an element from a set; it must be a member.\n",
      "\n",
      "    If the element is not a member, raise a KeyError.\n",
      "\n"
     ]
    }
   ],
   "source": [
    "help(set.remove)"
   ]
  },
  {
   "cell_type": "markdown",
   "id": "36e6351e",
   "metadata": {},
   "source": [
    "Dictionary"
   ]
  },
  {
   "cell_type": "code",
   "execution_count": 176,
   "id": "59b7732a",
   "metadata": {},
   "outputs": [
    {
     "data": {
      "text/plain": [
       "dict"
      ]
     },
     "execution_count": 176,
     "metadata": {},
     "output_type": "execute_result"
    }
   ],
   "source": [
    "my_address = {\n",
    "    \"ward\" : 1,\n",
    "    \"Municipality\": \"Ilam\",\n",
    "    \"Provice\" : \"koshi\",\n",
    "    \"Country\" : \"Nepal\",   \n",
    "}\n",
    "type(my_address)"
   ]
  },
  {
   "cell_type": "markdown",
   "id": "47bf1e1a",
   "metadata": {},
   "source": [
    "#Adding data in dictionary"
   ]
  },
  {
   "cell_type": "code",
   "execution_count": 177,
   "id": "398c7105",
   "metadata": {},
   "outputs": [
    {
     "data": {
      "text/plain": [
       "'Rejina'"
      ]
     },
     "execution_count": 177,
     "metadata": {},
     "output_type": "execute_result"
    }
   ],
   "source": [
    "my_address [\"name\"] = \"Rejina\"\n",
    "my_address [\"surname\"] = \"Budhathoki\"\n",
    "my_address [\"Contact\"] = \"9812345678\"\n",
    "my_address [\"Address\"] = {'city':\"Ilam\", 'country':\"Nepal\"}\n",
    "my_address [\"Address\"] = {'city':\"Ilam\", 'country':\"Nepal\"}\n",
    "my_address.get(\"name\")# Get method"
   ]
  },
  {
   "cell_type": "code",
   "execution_count": 178,
   "id": "15f46aae",
   "metadata": {},
   "outputs": [
    {
     "data": {
      "text/plain": [
       "{'ward': 1,\n",
       " 'Municipality': 'Ilam',\n",
       " 'Provice': 'koshi',\n",
       " 'Country': 'Nepal',\n",
       " 'name': 'Rejina',\n",
       " 'surname': 'Budhathoki',\n",
       " 'Contact': '9812345678',\n",
       " 'Address': {'city': 'Ilam', 'country': 'Nepal'}}"
      ]
     },
     "execution_count": 178,
     "metadata": {},
     "output_type": "execute_result"
    }
   ],
   "source": [
    "my_address"
   ]
  },
  {
   "cell_type": "code",
   "execution_count": 179,
   "id": "c401a59f",
   "metadata": {},
   "outputs": [
    {
     "data": {
      "text/plain": [
       "dict_values([1, 'Ilam', 'koshi', 'Nepal', 'Rejina', 'Budhathoki', '9812345678', {'city': 'Ilam', 'country': 'Nepal'}])"
      ]
     },
     "execution_count": 179,
     "metadata": {},
     "output_type": "execute_result"
    }
   ],
   "source": [
    "my_address.values()"
   ]
  },
  {
   "cell_type": "code",
   "execution_count": 180,
   "id": "9bc5ba3b",
   "metadata": {},
   "outputs": [
    {
     "name": "stdout",
     "output_type": "stream",
     "text": [
      "Help on method_descriptor:\n",
      "\n",
      "popitem(self, /) unbound builtins.dict method\n",
      "    Remove and return a (key, value) pair as a 2-tuple.\n",
      "\n",
      "    Pairs are returned in LIFO (last-in, first-out) order.\n",
      "    Raises KeyError if the dict is empty.\n",
      "\n"
     ]
    }
   ],
   "source": [
    "help(dict.popitem)"
   ]
  },
  {
   "cell_type": "code",
   "execution_count": 181,
   "id": "f65a9c37",
   "metadata": {},
   "outputs": [
    {
     "name": "stdout",
     "output_type": "stream",
     "text": [
      "Help on method_descriptor:\n",
      "\n",
      "pop(self, key, default=<unrepresentable>, /) unbound builtins.dict method\n",
      "    D.pop(k[,d]) -> v, remove specified key and return the corresponding value.\n",
      "\n",
      "    If the key is not found, return the default if given; otherwise,\n",
      "    raise a KeyError.\n",
      "\n"
     ]
    }
   ],
   "source": [
    "help(dict.pop)"
   ]
  },
  {
   "cell_type": "code",
   "execution_count": 182,
   "id": "739224ed",
   "metadata": {},
   "outputs": [
    {
     "data": {
      "text/plain": [
       "1"
      ]
     },
     "execution_count": 182,
     "metadata": {},
     "output_type": "execute_result"
    }
   ],
   "source": [
    "my_address.pop(\"ward\") # Gives the value of kay and remove it"
   ]
  },
  {
   "cell_type": "code",
   "execution_count": 183,
   "id": "7d01c065",
   "metadata": {},
   "outputs": [
    {
     "data": {
      "text/plain": [
       "{'Municipality': 'Ilam',\n",
       " 'Provice': 'koshi',\n",
       " 'Country': 'Nepal',\n",
       " 'name': 'Rejina',\n",
       " 'surname': 'Budhathoki',\n",
       " 'Contact': '9812345678',\n",
       " 'Address': {'city': 'Ilam', 'country': 'Nepal'}}"
      ]
     },
     "execution_count": 183,
     "metadata": {},
     "output_type": "execute_result"
    }
   ],
   "source": [
    "my_address"
   ]
  },
  {
   "cell_type": "code",
   "execution_count": 184,
   "id": "3c46c66b",
   "metadata": {},
   "outputs": [
    {
     "data": {
      "text/plain": [
       "('Address', {'city': 'Ilam', 'country': 'Nepal'})"
      ]
     },
     "execution_count": 184,
     "metadata": {},
     "output_type": "execute_result"
    }
   ],
   "source": [
    "my_address.popitem() #Sabaii vanda last ma j xa teslaii return gardinxa"
   ]
  },
  {
   "cell_type": "code",
   "execution_count": 185,
   "id": "9dd56933",
   "metadata": {},
   "outputs": [
    {
     "data": {
      "text/plain": [
       "{'Municipality': 'Ilam',\n",
       " 'Provice': 'koshi',\n",
       " 'Country': 'Nepal',\n",
       " 'name': 'Rejina',\n",
       " 'surname': 'Budhathoki',\n",
       " 'Contact': '9812345678'}"
      ]
     },
     "execution_count": 185,
     "metadata": {},
     "output_type": "execute_result"
    }
   ],
   "source": [
    "my_address"
   ]
  },
  {
   "cell_type": "code",
   "execution_count": 186,
   "id": "08c02b52",
   "metadata": {},
   "outputs": [
    {
     "ename": "KeyError",
     "evalue": "'Address'",
     "output_type": "error",
     "traceback": [
      "\u001b[31m---------------------------------------------------------------------------\u001b[39m",
      "\u001b[31mKeyError\u001b[39m                                  Traceback (most recent call last)",
      "\u001b[36mCell\u001b[39m\u001b[36m \u001b[39m\u001b[32mIn[186]\u001b[39m\u001b[32m, line 1\u001b[39m\n\u001b[32m----> \u001b[39m\u001b[32m1\u001b[39m \u001b[43mmy_address\u001b[49m\u001b[43m[\u001b[49m\u001b[33;43m\"\u001b[39;49m\u001b[33;43mAddress\u001b[39;49m\u001b[33;43m\"\u001b[39;49m\u001b[43m]\u001b[49m[\u001b[32m2\u001b[39m]\n",
      "\u001b[31mKeyError\u001b[39m: 'Address'"
     ]
    }
   ],
   "source": [
    "my_address[\"Address\"][2]"
   ]
  },
  {
   "cell_type": "markdown",
   "id": "7547c381",
   "metadata": {},
   "source": [
    "Files\n",
    "go to It section.\n",
    "go to python book.\n",
    "start reading"
   ]
  },
  {
   "cell_type": "code",
   "execution_count": null,
   "id": "0f7b71e3",
   "metadata": {},
   "outputs": [],
   "source": [
    "#locate the book /Find the location where the book is locates\n",
    "#Open the book ./reading\n",
    "#1,2,3,4,5,6......\n",
    "#next\n",
    "#Close the book"
   ]
  },
  {
   "cell_type": "code",
   "execution_count": 190,
   "id": "a9b6e306",
   "metadata": {},
   "outputs": [],
   "source": [
    "#Locate the file\n",
    "file_path = \"C:\\\\Users\\\\97798\\\\Desktop\\\\PYTHON_LEARNING_SESSIon\\\\hello.txt\""
   ]
  },
  {
   "cell_type": "code",
   "execution_count": 199,
   "id": "ecc55aec",
   "metadata": {},
   "outputs": [],
   "source": [
    "a = open(file_path, \"r\")"
   ]
  },
  {
   "cell_type": "code",
   "execution_count": 200,
   "id": "b955c8b5",
   "metadata": {},
   "outputs": [
    {
     "data": {
      "text/plain": [
       "'My name is Rejina.\\nIam from Ilam.\\nIam studying python.'"
      ]
     },
     "execution_count": 200,
     "metadata": {},
     "output_type": "execute_result"
    }
   ],
   "source": [
    "a.read()"
   ]
  },
  {
   "cell_type": "code",
   "execution_count": 201,
   "id": "28b2cf32",
   "metadata": {},
   "outputs": [],
   "source": [
    "a.close()"
   ]
  },
  {
   "cell_type": "code",
   "execution_count": 202,
   "id": "d7987c45",
   "metadata": {},
   "outputs": [
    {
     "ename": "ValueError",
     "evalue": "I/O operation on closed file.",
     "output_type": "error",
     "traceback": [
      "\u001b[31m---------------------------------------------------------------------------\u001b[39m",
      "\u001b[31mValueError\u001b[39m                                Traceback (most recent call last)",
      "\u001b[36mCell\u001b[39m\u001b[36m \u001b[39m\u001b[32mIn[202]\u001b[39m\u001b[32m, line 2\u001b[39m\n\u001b[32m      1\u001b[39m \u001b[38;5;66;03m#Now we cannot read after closing.\u001b[39;00m\n\u001b[32m----> \u001b[39m\u001b[32m2\u001b[39m \u001b[43ma\u001b[49m\u001b[43m.\u001b[49m\u001b[43mread\u001b[49m\u001b[43m(\u001b[49m\u001b[43m)\u001b[49m\n",
      "\u001b[31mValueError\u001b[39m: I/O operation on closed file."
     ]
    }
   ],
   "source": [
    "#Now we cannot read after closing.\n",
    "a.read()"
   ]
  },
  {
   "cell_type": "code",
   "execution_count": null,
   "id": "ab1e43ba",
   "metadata": {},
   "outputs": [],
   "source": [
    "#r --> Reading # These all are predefine\n",
    "#W---> Writing\n",
    "#a--->Appened\n",
    "#ADvance --> a+,W+,r+"
   ]
  },
  {
   "cell_type": "markdown",
   "id": "1fd347e0",
   "metadata": {},
   "source": [
    "Tuple Unpacking and packing"
   ]
  },
  {
   "cell_type": "code",
   "execution_count": 1,
   "id": "943a9501",
   "metadata": {},
   "outputs": [],
   "source": [
    "a = [(\"Nabil\",500),(\"Upper\",300),(\"NBL\",350)]\n",
    "#nabil is selling at 500\n",
    "#upper is selling at 350\n",
    "#nbl is selling 350"
   ]
  },
  {
   "cell_type": "code",
   "execution_count": 11,
   "id": "b89416c7",
   "metadata": {},
   "outputs": [
    {
     "name": "stdout",
     "output_type": "stream",
     "text": [
      "Nabil is selling at 500\n",
      "Upper is selling at 300\n",
      "NBL is selling at 350\n"
     ]
    }
   ],
   "source": [
    "for b ,c in a :\n",
    "    # b,c = i\n",
    "    print(f\"{b} is selling at {c}\")"
   ]
  },
  {
   "cell_type": "code",
   "execution_count": 12,
   "id": "975b166f",
   "metadata": {},
   "outputs": [
    {
     "name": "stdout",
     "output_type": "stream",
     "text": [
      "Nabil\n",
      "500\n"
     ]
    }
   ],
   "source": [
    "b,c = a[0] #tuple unpacking\n",
    "print (b)\n",
    "print(c)"
   ]
  },
  {
   "cell_type": "code",
   "execution_count": 13,
   "id": "285c5256",
   "metadata": {},
   "outputs": [],
   "source": [
    "a = [1,2,3]\n"
   ]
  },
  {
   "cell_type": "code",
   "execution_count": 15,
   "id": "116dec65",
   "metadata": {},
   "outputs": [
    {
     "data": {
      "text/plain": [
       "3"
      ]
     },
     "execution_count": 15,
     "metadata": {},
     "output_type": "execute_result"
    }
   ],
   "source": [
    "max(a)"
   ]
  },
  {
   "cell_type": "code",
   "execution_count": 16,
   "id": "a48b13ae",
   "metadata": {},
   "outputs": [
    {
     "data": {
      "text/plain": [
       "2"
      ]
     },
     "execution_count": 16,
     "metadata": {},
     "output_type": "execute_result"
    }
   ],
   "source": [
    "a.index(3)"
   ]
  },
  {
   "cell_type": "markdown",
   "id": "c096cce6",
   "metadata": {},
   "source": [
    "Enumerate"
   ]
  },
  {
   "cell_type": "code",
   "execution_count": null,
   "id": "68f6aff5",
   "metadata": {},
   "outputs": [
    {
     "name": "stdout",
     "output_type": "stream",
     "text": [
      "0 1\n",
      "1 2\n",
      "2 3\n"
     ]
    }
   ],
   "source": [
    "# max_val = 0\n",
    "# for index, value in enumerate (a):\n",
    "#     print(index, value)    "
   ]
  },
  {
   "cell_type": "code",
   "execution_count": 42,
   "id": "54f6d9bf",
   "metadata": {},
   "outputs": [
    {
     "name": "stdout",
     "output_type": "stream",
     "text": [
      "Iam in index 0 with value 1\n",
      "Iam in index 1 with value 2\n",
      "Iam in index 2 with value 3\n"
     ]
    }
   ],
   "source": [
    "b = [1,2,3]\n",
    "max_value =0\n",
    "max_index = -1\n",
    "for index, value in enumerate (b):\n",
    "    print(f\"Iam in index {index} with value {value}\")\n",
    "    if value>max_value:\n",
    "        max_value = value\n",
    "        max_index = index\n",
    "    pass"
   ]
  },
  {
   "cell_type": "code",
   "execution_count": 43,
   "id": "ec2da02a",
   "metadata": {},
   "outputs": [
    {
     "data": {
      "text/plain": [
       "3"
      ]
     },
     "execution_count": 43,
     "metadata": {},
     "output_type": "execute_result"
    }
   ],
   "source": [
    "max_value"
   ]
  },
  {
   "cell_type": "code",
   "execution_count": 44,
   "id": "261ee901",
   "metadata": {},
   "outputs": [
    {
     "data": {
      "text/plain": [
       "2"
      ]
     },
     "execution_count": 44,
     "metadata": {},
     "output_type": "execute_result"
    }
   ],
   "source": [
    "max_index"
   ]
  },
  {
   "cell_type": "code",
   "execution_count": 45,
   "id": "eec8f162",
   "metadata": {},
   "outputs": [],
   "source": [
    "work_hours = [('aby',100),('Billy',400),('Cassie',800)]"
   ]
  },
  {
   "cell_type": "code",
   "execution_count": 66,
   "id": "1340551b",
   "metadata": {},
   "outputs": [],
   "source": [
    "def find_hard_Working(data):\n",
    "    max_val = 0\n",
    "    max_index = - 1\n",
    "    for index, value in data:\n",
    "        if value > max_val:\n",
    "            max_val = value\n",
    "            max_index = index   \n",
    "    return max_val,max_index"
   ]
  },
  {
   "cell_type": "code",
   "execution_count": 67,
   "id": "99fa6c70",
   "metadata": {},
   "outputs": [
    {
     "data": {
      "text/plain": [
       "(800, 'Cassie')"
      ]
     },
     "execution_count": 67,
     "metadata": {},
     "output_type": "execute_result"
    }
   ],
   "source": [
    "find_hard_Working(work_hours)"
   ]
  },
  {
   "cell_type": "code",
   "execution_count": null,
   "id": "f0633e1c",
   "metadata": {},
   "outputs": [],
   "source": [
    "def user_input():\n",
    "    while True:\n",
    "        a = input(\"Enter a integer as your roll_number :\")\n",
    "        try :\n",
    "            a = int (a)\n",
    "            return a\n",
    "        except Exception as e :\n",
    "            print (e)\n",
    "            print (\"Cannot convert into integer please enter number next time..\")\n",
    "        finally:\n",
    "            print(\"Our job  finished, if required re run please\")\n",
    "        return a"
   ]
  },
  {
   "cell_type": "code",
   "execution_count": 6,
   "id": "e3dde9d0",
   "metadata": {},
   "outputs": [
    {
     "name": "stdout",
     "output_type": "stream",
     "text": [
      "Our job  finished, if required re run please\n"
     ]
    },
    {
     "data": {
      "text/plain": [
       "122"
      ]
     },
     "execution_count": 6,
     "metadata": {},
     "output_type": "execute_result"
    }
   ],
   "source": [
    "user_input()"
   ]
  },
  {
   "cell_type": "code",
   "execution_count": 14,
   "id": "52326f90",
   "metadata": {},
   "outputs": [],
   "source": [
    "def user_input():\n",
    "    while True:\n",
    "        a = input(\"Enter a integer as your roll_number :\")\n",
    "        try :\n",
    "            a = int (a)\n",
    "            if a <100 :\n",
    "                return a\n",
    "            else:\n",
    "                print(\"Please enter less than 100\")\n",
    "                pass\n",
    "        except Exception as e :\n",
    "            print (e)\n",
    "            print (\"Cannot convert into integer please enter number next time..\")\n",
    "        finally:\n",
    "            print(\"Our job  finished, if required re run please\")\n",
    "        return a"
   ]
  },
  {
   "cell_type": "code",
   "execution_count": 15,
   "id": "b25c9444",
   "metadata": {},
   "outputs": [
    {
     "name": "stdout",
     "output_type": "stream",
     "text": [
      "Please enter less than 100\n",
      "Our job  finished, if required re run please\n"
     ]
    },
    {
     "data": {
      "text/plain": [
       "999"
      ]
     },
     "execution_count": 15,
     "metadata": {},
     "output_type": "execute_result"
    }
   ],
   "source": [
    "user_input()"
   ]
  }
 ],
 "metadata": {
  "kernelspec": {
   "display_name": "python_learn_env",
   "language": "python",
   "name": "python3"
  },
  "language_info": {
   "codemirror_mode": {
    "name": "ipython",
    "version": 3
   },
   "file_extension": ".py",
   "mimetype": "text/x-python",
   "name": "python",
   "nbconvert_exporter": "python",
   "pygments_lexer": "ipython3",
   "version": "3.13.2"
  }
 },
 "nbformat": 4,
 "nbformat_minor": 5
}
