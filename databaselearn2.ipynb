{
 "cells": [
  {
   "cell_type": "markdown",
   "id": "74d2dfaa",
   "metadata": {},
   "source": [
    "# WAP to insert 10 students' details into a database using a loop."
   ]
  },
  {
   "cell_type": "code",
   "execution_count": 2,
   "id": "f619796f",
   "metadata": {},
   "outputs": [
    {
     "name": "stdout",
     "output_type": "stream",
     "text": [
      "\n",
      "Entering data for student 1\n"
     ]
    },
    {
     "ename": "NameError",
     "evalue": "name 'execute_query' is not defined",
     "output_type": "error",
     "traceback": [
      "\u001b[31m---------------------------------------------------------------------------\u001b[39m",
      "\u001b[31mNameError\u001b[39m                                 Traceback (most recent call last)",
      "\u001b[36mCell\u001b[39m\u001b[36m \u001b[39m\u001b[32mIn[2]\u001b[39m\u001b[32m, line 15\u001b[39m\n\u001b[32m     12\u001b[39m student_id, student_name, student_per = student()\n\u001b[32m     14\u001b[39m insert_query = \u001b[33mf\u001b[39m\u001b[33m\"\u001b[39m\u001b[33mINSERT INTO student VALUES (\u001b[39m\u001b[38;5;132;01m{\u001b[39;00mstudent_id\u001b[38;5;132;01m}\u001b[39;00m\u001b[33m, \u001b[39m\u001b[33m'\u001b[39m\u001b[38;5;132;01m{\u001b[39;00mstudent_name\u001b[38;5;132;01m}\u001b[39;00m\u001b[33m'\u001b[39m\u001b[33m, \u001b[39m\u001b[38;5;132;01m{\u001b[39;00mstudent_per\u001b[38;5;132;01m}\u001b[39;00m\u001b[33m)\u001b[39m\u001b[33m\"\u001b[39m\n\u001b[32m---> \u001b[39m\u001b[32m15\u001b[39m \u001b[43mexecute_query\u001b[49m(insert_query)\n\u001b[32m     17\u001b[39m \u001b[38;5;66;03m# Ask if user wants to continue\u001b[39;00m\n\u001b[32m     18\u001b[39m cont = \u001b[38;5;28minput\u001b[39m(\u001b[33m\"\u001b[39m\u001b[33mDo you want to add another student? (yes/no): \u001b[39m\u001b[33m\"\u001b[39m).strip().lower()\n",
      "\u001b[31mNameError\u001b[39m: name 'execute_query' is not defined"
     ]
    }
   ],
   "source": [
    "def student():\n",
    "    s_id = int(input(\"Enter student id: \"))\n",
    "    name = input(\"Enter the student name: \")\n",
    "    per = float(input(\"Enter the student percentage: \"))\n",
    "    return s_id, name, per\n",
    "\n",
    "count = 1  # Track how many students added\n",
    "\n",
    "while True:\n",
    "    print(f\"\\nEntering data for student {count}\")\n",
    "    \n",
    "    student_id, student_name, student_per = student()\n",
    "    \n",
    "    insert_query = f\"INSERT INTO student VALUES ({student_id}, '{student_name}', {student_per})\"\n",
    "    execute_query(insert_query)\n",
    "\n",
    "    # Ask if user wants to continue\n",
    "    cont = input(\"Do you want to add another student? (yes/no): \").strip().lower()\n",
    "    if cont != \"yes\":\n",
    "        break\n",
    "    \n",
    "    count += 1\n",
    "\n",
    "print(\"\\n Student data entry completed!\")\n"
   ]
  }
 ],
 "metadata": {
  "kernelspec": {
   "display_name": "python_learn_env",
   "language": "python",
   "name": "python3"
  },
  "language_info": {
   "codemirror_mode": {
    "name": "ipython",
    "version": 3
   },
   "file_extension": ".py",
   "mimetype": "text/x-python",
   "name": "python",
   "nbconvert_exporter": "python",
   "pygments_lexer": "ipython3",
   "version": "3.13.2"
  }
 },
 "nbformat": 4,
 "nbformat_minor": 5
}
